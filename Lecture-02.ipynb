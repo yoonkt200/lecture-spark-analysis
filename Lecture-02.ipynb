{
 "cells": [
  {
   "cell_type": "markdown",
   "metadata": {},
   "source": [
    "## 1. How Spark works\n",
    "\n",
    "#### DAGScheduler (Directed Acyclic Graph scheduler)\n",
    "\n",
    "- Shuffle은 join, groupBy같은 연산에서 일어남.\n",
    "- 셔플을 기준으로 stage가 나뉨. 셔플이란 다른 파티션간의 데이터들의 합계 혹은 모종의 연산이 일어나는 경우.\n",
    "- HDFS -> RDD -> Partition의 흐름으로 데이터가 읽힘.\n",
    "- Partition : 실제 데이터를 논리적으로 나눠놓은 것. 데이터를 나누는 최소 단위라고도 볼 수 있음.\n",
    "- 파티션된 데이터들이 repartition 되는 것이 셔플이라고도 볼 수 있음.\n",
    "- 중요한 것은 하나의 파티션에 하나의 task가 돈다는 것.\n",
    "- task(1 thread) : 1개의 task는 1개의 partition을 처리함.\n",
    "- 하나의 stage 안에 있는 task를 묶은 것이 Taskset. 각각의 stage 안에 있는 task는 모두 같은 로직을 가지고 있음. 다른 로직을 가진 태스크는 없음.\n",
    "- 이 모든 내용을 스케줄링해서 Worker에게 보내서 실행시킴.\n",
    "\n",
    "-----\n",
    "\n",
    "- (참고) spark 배포판이 아닌 오픈소스 라이브러리 모음. als도 원래 여기있다가 배포판으로 인정받음 : https://spark-packages.org\n",
    "- (공홈) http://spark.apache.org/"
   ]
  },
  {
   "cell_type": "markdown",
   "metadata": {},
   "source": [
    "## 2. Spark run"
   ]
  },
  {
   "cell_type": "code",
   "execution_count": 1,
   "metadata": {},
   "outputs": [
    {
     "data": {
      "text/plain": [
       "Name: Compile Error\n",
       "Message: <console>:31: error: value textfile is not a member of org.apache.spark.SparkContext\n",
       "       val lines = sc.textfile(\"README.md\")\n",
       "                      ^\n",
       "\n",
       "StackTrace: "
      ]
     },
     "execution_count": 1,
     "metadata": {},
     "output_type": "execute_result"
    }
   ],
   "source": [
    "import org.apache.spark.SparkConf\n",
    "import org.apache.spark.SparkContext\n",
    "import org.apache.spark.sql.SQLContext\n",
    "\n",
    "val lines = sc.textfile(\"README.md\")"
   ]
  },
  {
   "cell_type": "code",
   "execution_count": null,
   "metadata": {},
   "outputs": [],
   "source": []
  }
 ],
 "metadata": {
  "kernelspec": {
   "display_name": "Apache Toree - Scala",
   "language": "scala",
   "name": "apache_toree_scala"
  },
  "language_info": {
   "codemirror_mode": "text/x-scala",
   "file_extension": ".scala",
   "mimetype": "text/x-scala",
   "name": "scala",
   "pygments_lexer": "scala",
   "version": "2.11.8"
  }
 },
 "nbformat": 4,
 "nbformat_minor": 2
}
