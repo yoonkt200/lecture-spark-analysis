{
 "cells": [
  {
   "cell_type": "markdown",
   "metadata": {},
   "source": [
    "## RDD Persistence"
   ]
  },
  {
   "cell_type": "code",
   "execution_count": 1,
   "metadata": {},
   "outputs": [
    {
     "data": {
      "text/plain": [
       "rdd = persistedRDD ParallelCollectionRDD[0] at makeRDD at <console>:28\n"
      ]
     },
     "metadata": {},
     "output_type": "display_data"
    },
    {
     "data": {
      "text/plain": [
       "persistedRDD ParallelCollectionRDD[0] at makeRDD at <console>:28"
      ]
     },
     "execution_count": 1,
     "metadata": {},
     "output_type": "execute_result"
    }
   ],
   "source": [
    "import org.apache.spark.storage.StorageLevel\n",
    "\n",
    "val rdd = sc.makeRDD(1 to 10000)\n",
    "rdd.setName(\"persistedRDD\")\n",
    "rdd.persist(StorageLevel.DISK_ONLY) // 이때까지 실제로 캐시가 이뤄지지는 않음\n",
    "rdd.count // -> action 수행. 실제로 캐시가 이루어지는 부분\n",
    "// 웹 UI 확인 (Storage 항목에서 캐시된 RDD 확인)\n",
    "rdd.unpersist()\n",
    "// 웹 UI 확인 (Storage 항목에서 삭제된 RDD 확인)"
   ]
  },
  {
   "cell_type": "code",
   "execution_count": null,
   "metadata": {},
   "outputs": [],
   "source": []
  }
 ],
 "metadata": {
  "kernelspec": {
   "display_name": "Apache Toree - Scala",
   "language": "scala",
   "name": "apache_toree_scala"
  },
  "language_info": {
   "codemirror_mode": "text/x-scala",
   "file_extension": ".scala",
   "mimetype": "text/x-scala",
   "name": "scala",
   "pygments_lexer": "scala",
   "version": "2.11.8"
  }
 },
 "nbformat": 4,
 "nbformat_minor": 2
}
