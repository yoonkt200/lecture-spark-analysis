{
 "cells": [
  {
   "cell_type": "markdown",
   "metadata": {},
   "source": [
    "## 1. How Spark works\n",
    "\n",
    "#### DAGScheduler (Directed Acyclic Graph scheduler)\n",
    "\n",
    "- Shuffle은 join, groupBy같은 연산에서 일어남.\n",
    "- 셔플을 기준으로 stage가 나뉨. 셔플이란 다른 파티션간의 데이터들의 합계 혹은 모종의 연산이 일어나는 경우.\n",
    "- HDFS -> RDD -> Partition의 흐름으로 데이터가 읽힘.\n",
    "- Partition : 실제 데이터를 논리적으로 나눠놓은 것. 데이터를 나누는 최소 단위라고도 볼 수 있음.\n",
    "- 파티션된 데이터들이 repartition 되는 것이 셔플이라고도 볼 수 있음.\n",
    "- 중요한 것은 하나의 파티션에 하나의 task가 돈다는 것.\n",
    "- task(1 thread) : 1개의 task는 1개의 partition을 처리함.\n",
    "- 하나의 stage 안에 있는 task를 묶은 것이 Taskset. 각각의 stage 안에 있는 task는 모두 같은 로직을 가지고 있음. 다른 로직을 가진 태스크는 없음.\n",
    "- 이 모든 내용을 스케줄링해서 Worker에게 보내서 실행시킴.\n",
    "\n",
    "-----\n",
    "\n",
    "- (참고) spark 배포판이 아닌 오픈소스 라이브러리 모음. als도 원래 여기있다가 배포판으로 인정받음 : https://spark-packages.org\n",
    "- (공홈) http://spark.apache.org/"
   ]
  },
  {
   "cell_type": "markdown",
   "metadata": {},
   "source": [
    "## 2. Spark run"
   ]
  },
  {
   "cell_type": "markdown",
   "metadata": {},
   "source": [
    "-----\n",
    "\n",
    "#### Spark Start"
   ]
  },
  {
   "cell_type": "code",
   "execution_count": 1,
   "metadata": {},
   "outputs": [
    {
     "data": {
      "text/plain": [
       "lines = dataset/README.md MapPartitionsRDD[1] at textFile at <console>:31\n"
      ]
     },
     "metadata": {},
     "output_type": "display_data"
    },
    {
     "data": {
      "text/plain": [
       "dataset/README.md MapPartitionsRDD[1] at textFile at <console>:31"
      ]
     },
     "execution_count": 1,
     "metadata": {},
     "output_type": "execute_result"
    }
   ],
   "source": [
    "import org.apache.spark.SparkConf\n",
    "import org.apache.spark.SparkContext\n",
    "import org.apache.spark.sql.SQLContext\n",
    "\n",
    "val lines = sc.textFile(\"dataset/README.md\")"
   ]
  },
  {
   "cell_type": "code",
   "execution_count": 2,
   "metadata": {},
   "outputs": [
    {
     "data": {
      "text/html": [
       "<ul>\n",
       "<li><a href=\"Some(http://520623a32092:4040)\" target=\"new_tab\">Spark UI: local-1536151443850</a></li>\n",
       "</ul>"
      ],
      "text/plain": [
       "Spark local-1536151443850: Some(http://520623a32092:4040)"
      ]
     },
     "execution_count": 2,
     "metadata": {},
     "output_type": "execute_result"
    }
   ],
   "source": [
    "sc // docker에서는 4040 port를 열어줘야 접속이 가능. local에서는 4040 포트에서 UI monitoring을 제공."
   ]
  },
  {
   "cell_type": "code",
   "execution_count": 4,
   "metadata": {},
   "outputs": [
    {
     "data": {
      "text/html": [
       "<ul>\n",
       "<li><a href=\"Some(http://520623a32092:4040)\" target=\"new_tab\">Spark UI: local-1536151443850</a></li>\n",
       "</ul>"
      ],
      "text/plain": [
       "Spark local-1536151443850: Some(http://520623a32092:4040)"
      ]
     },
     "execution_count": 4,
     "metadata": {},
     "output_type": "execute_result"
    }
   ],
   "source": [
    "spark"
   ]
  },
  {
   "cell_type": "markdown",
   "metadata": {},
   "source": [
    "#### [LAB] RDD"
   ]
  },
  {
   "cell_type": "code",
   "execution_count": 1,
   "metadata": {},
   "outputs": [
    {
     "data": {
      "text/plain": [
       "data = Range(1, 2, 3, 4, 5, 6, 7, 8, 9, 10, 11, 12, 13, 14, 15, 16, 17, 18, 19, 20, 21, 22, 23, 24, 25, 26, 27, 28, 29, 30, 31, 32, 33, 34, 35, 36, 37, 38, 39, 40, 41, 42, 43, 44, 45, 46, 47, 48, 49, 50, 51, 52, 53, 54, 55, 56, 57, 58, 59, 60, 61, 62, 63, 64, 65, 66, 67, 68, 69, 70, 71, 72, 73, 74, 75, 76, 77, 78, 79, 80, 81, 82, 83, 84, 85, 86, 87, 88, 89, 90, 91, 92, 93, 94, 95, 96, 97, 98, 99, 100, 101, 102, 103, 104, 105, 106, 107, 108, 109, 110, 111, 112, 113, 114, 115, 116, 117, 118, 119, 120, 121, 122, 123, 124, 125, 126, 127, 128, 129, 130, 131, 132, 133, 134, 135, 136, 137, 138, 139, 140, 141, 142, 143, 144, 145, 146, 147, 148, 149, 150, 151, 152, 153, 154, 155, 156, 157, 158, 159, 160, 161, 162, 163, 164, 165, 166, 167, 168, 169, 170...\n"
      ]
     },
     "metadata": {},
     "output_type": "display_data"
    },
    {
     "data": {
      "text/plain": [
       "Range(1, 2, 3, 4, 5, 6, 7, 8, 9, 10, 11, 12, 13, 14, 15, 16, 17, 18, 19, 20, 21, 22, 23, 24, 25, 26, 27, 28, 29, 30, 31, 32, 33, 34, 35, 36, 37, 38, 39, 40, 41, 42, 43, 44, 45, 46, 47, 48, 49, 50, 51, 52, 53, 54, 55, 56, 57, 58, 59, 60, 61, 62, 63, 64, 65, 66, 67, 68, 69, 70, 71, 72, 73, 74, 75, 76, 77, 78, 79, 80, 81, 82, 83, 84, 85, 86, 87, 88, 89, 90, 91, 92, 93, 94, 95, 96, 97, 98, 99, 100, 101, 102, 103, 104, 105, 106, 107, 108, 109, 110, 111, 112, 113, 114, 115, 116, 117, 118, 119, 120, 121, 122, 123, 124, 125, 126, 127, 128, 129, 130, 131, 132, 133, 134, 135, 136, 137, 138, 139, 140, 141, 142, 143, 144, 145, 146, 147, 148, 149, 150, 151, 152, 153, 154, 155, 156, 157, 158, 159, 160, 161, 162, 163, 164, 165, 166, 167, 168, 169, 170, 171, 172, 173, 174, 175, 176, 177, 178, 179, 180, 181, 182, 183, 184, 185, 186, 187, 188, 189, 190, 191, 192, 193, 194, 195, 196, 197, 198, 199, 200, 201, 202, 203, 204, 205, 206, 207, 208, 209, 210, 211, 212, 213, 214, 215, 216, 217, 218, 219, 220, 221, 222, 223, 224, 225, 226, 227, 228, 229, 230, 231, 232, 233, 234, 235, 236, 237, 238, 239, 240, 241, 242, 243, 244, 245, 246, 247, 248, 249, 250, 251, 252, 253, 254, 255, 256, 257, 258, 259, 260, 261, 262, 263, 264, 265, 266, 267, 268, 269, 270, 271, 272, 273, 274, 275, 276, 277, 278, 279, 280, 281, 282, 283, 284, 285, 286, 287, 288, 289, 290, 291, 292, 293, 294, 295, 296, 297, 298, 299, 300, 301, 302, 303, 304, 305, 306, 307, 308, 309, 310, 311, 312, 313, 314, 315, 316, 317, 318, 319, 320, 321, 322, 323, 324, 325, 326, 327, 328, 329, 330, 331, 332, 333, 334, 335, 336, 337, 338, 339, 340, 341, 342, 343, 344, 345, 346, 347, 348, 349, 350, 351, 352, 353, 354, 355, 356, 357, 358, 359, 360, 361, 362, 363, 364, 365, 366, 367, 368, 369, 370, 371, 372, 373, 374, 375, 376, 377, 378, 379, 380, 381, 382, 383, 384, 385, 386, 387, 388, 389, 390, 391, 392, 393, 394, 395, 396, 397, 398, 399, 400, 401, 402, 403, 404, 405, 406, 407, 408, 409, 410, 411, 412, 413, 414, 415, 416, 417, 418, 419, 420, 421, 422, 423, 424, 425, 426, 427, 428, 429, 430, 431, 432, 433, 434, 435, 436, 437, 438, 439, 440, 441, 442, 443, 444, 445, 446, 447, 448, 449, 450, 451, 452, 453, 454, 455, 456, 457, 458, 459, 460, 461, 462, 463, 464, 465, 466, 467, 468, 469, 470, 471, 472, 473, 474, 475, 476, 477, 478, 479, 480, 481, 482, 483, 484, 485, 486, 487, 488, 489, 490, 491, 492, 493, 494, 495, 496, 497, 498, 499, 500, 501, 502, 503, 504, 505, 506, 507, 508, 509, 510, 511, 512, ... )"
      ]
     },
     "execution_count": 1,
     "metadata": {},
     "output_type": "execute_result"
    }
   ],
   "source": [
    "val data = 1 to 1000"
   ]
  },
  {
   "cell_type": "markdown",
   "metadata": {},
   "source": [
    "###### 1부터 1000의 숫자는 master가 생성하지만, parallelize 하게 되면 1000개를 worker 노드들에 뿌린다."
   ]
  },
  {
   "cell_type": "code",
   "execution_count": 2,
   "metadata": {},
   "outputs": [
    {
     "data": {
      "text/plain": [
       "distData = ParallelCollectionRDD[0] at parallelize at <console>:29\n"
      ]
     },
     "metadata": {},
     "output_type": "display_data"
    },
    {
     "data": {
      "text/plain": [
       "ParallelCollectionRDD[0] at parallelize at <console>:29"
      ]
     },
     "execution_count": 2,
     "metadata": {},
     "output_type": "execute_result"
    }
   ],
   "source": [
    "val distData = sc.parallelize(data)"
   ]
  },
  {
   "cell_type": "code",
   "execution_count": 4,
   "metadata": {},
   "outputs": [
    {
     "data": {
      "text/plain": [
       "2"
      ]
     },
     "execution_count": 4,
     "metadata": {},
     "output_type": "execute_result"
    }
   ],
   "source": [
    "distData.getNumPartitions // 1부터 500까지, 500부터 1000까지 데이터를 나눠서 파티션으로 관리하고 있음."
   ]
  },
  {
   "cell_type": "markdown",
   "metadata": {},
   "source": [
    "###### 여기서부터 쓰레드가 2개가 돌아가면서 working하는 것. (partition이 두개이기 때문에)"
   ]
  },
  {
   "cell_type": "code",
   "execution_count": 5,
   "metadata": {},
   "outputs": [
    {
     "data": {
      "text/plain": [
       "[1, 2, 3, 4, 5, 6, 7, 8, 9]"
      ]
     },
     "execution_count": 5,
     "metadata": {},
     "output_type": "execute_result"
    }
   ],
   "source": [
    "distData.filter(_ < 10).collect() // _ 는 tuple 형태로 만들겠다는 거고, collect는 action으로 뿌린걸 거둬들임."
   ]
  },
  {
   "cell_type": "markdown",
   "metadata": {},
   "source": [
    "<img src=\"images/lec_02-1.png\">"
   ]
  },
  {
   "cell_type": "markdown",
   "metadata": {},
   "source": [
    "-----\n",
    "-----"
   ]
  },
  {
   "cell_type": "markdown",
   "metadata": {},
   "source": [
    "#### [LAB] Shuffle by Repartition"
   ]
  },
  {
   "cell_type": "code",
   "execution_count": 9,
   "metadata": {},
   "outputs": [
    {
     "data": {
      "text/plain": [
       "intRDD2 = ParallelCollectionRDD[3] at parallelize at <console>:27\n"
      ]
     },
     "metadata": {},
     "output_type": "display_data"
    },
    {
     "data": {
      "text/plain": [
       "ParallelCollectionRDD[3] at parallelize at <console>:27"
      ]
     },
     "execution_count": 9,
     "metadata": {},
     "output_type": "execute_result"
    }
   ],
   "source": [
    "val intRDD2 = sc.parallelize(1 to 20)"
   ]
  },
  {
   "cell_type": "code",
   "execution_count": 10,
   "metadata": {},
   "outputs": [],
   "source": [
    "intRDD2.saveAsTextFile(\"dataset/intRDD2\") // intRDD2가 분산파일로 생성됨."
   ]
  },
  {
   "cell_type": "code",
   "execution_count": 11,
   "metadata": {},
   "outputs": [
    {
     "data": {
      "text/plain": [
       "intRDD5 = MapPartitionsRDD[8] at repartition at <console>:29\n"
      ]
     },
     "metadata": {},
     "output_type": "display_data"
    },
    {
     "data": {
      "text/plain": [
       "MapPartitionsRDD[8] at repartition at <console>:29"
      ]
     },
     "execution_count": 11,
     "metadata": {},
     "output_type": "execute_result"
    }
   ],
   "source": [
    "val intRDD5 = intRDD2.repartition(5) // 현재 분산파일로 저장된 파일의 개수는 2개였음 -> 파티션이 2개였는데 이걸 repartition 함."
   ]
  },
  {
   "cell_type": "code",
   "execution_count": 14,
   "metadata": {},
   "outputs": [
    {
     "data": {
      "text/plain": [
       "lastException: Throwable = null\n"
      ]
     },
     "metadata": {},
     "output_type": "display_data"
    }
   ],
   "source": [
    "intRDD5.saveAsTextFile(\"dataset/intRDD5\") // 파티션이 5개인 데이터로 5개 분산파일이 생성됨."
   ]
  },
  {
   "cell_type": "markdown",
   "metadata": {},
   "source": [
    "###### repartition을 하면 shuffle이 됨. 그래서 2개짜리 파일에 있는 내용의 순서대로 저장되는 것이 아니라, 섞여서 저장됨."
   ]
  },
  {
   "cell_type": "markdown",
   "metadata": {},
   "source": [
    "<img src=\"images/lec_02-2.png\">\n",
    "-----"
   ]
  },
  {
   "cell_type": "code",
   "execution_count": 15,
   "metadata": {},
   "outputs": [],
   "source": [
    "intRDD5.saveAsTextFile(\"dataset/intRDD55\") // local에 저장되어있기 때문에 skip 됨."
   ]
  },
  {
   "cell_type": "markdown",
   "metadata": {},
   "source": [
    "-----\n",
    "<img src=\"images/lec_02-3.png\">"
   ]
  },
  {
   "cell_type": "markdown",
   "metadata": {},
   "source": [
    "-----"
   ]
  },
  {
   "cell_type": "markdown",
   "metadata": {},
   "source": [
    "-----\n",
    "#### [LAB] Partitions for Files"
   ]
  },
  {
   "cell_type": "markdown",
   "metadata": {},
   "source": [
    "- partition별 데이터가 unbalance 하다면 같은 stage 안에서 task 4개가 실행이 되어도, 특정 task의 partition 데이터 처리 하나가 안끝나서 해당 stage 속도가 느려질 수 있음. 즉 전체 성능 저하를 일으킴."
   ]
  },
  {
   "cell_type": "code",
   "execution_count": 3,
   "metadata": {},
   "outputs": [
    {
     "data": {
      "text/plain": [
       "rdd = dataset/README.md MapPartitionsRDD[5] at textFile at <console>:32\n"
      ]
     },
     "metadata": {},
     "output_type": "display_data"
    },
    {
     "data": {
      "text/plain": [
       "2"
      ]
     },
     "execution_count": 3,
     "metadata": {},
     "output_type": "execute_result"
    }
   ],
   "source": [
    "val rdd = sc.textFile(\"dataset/README.md\")\n",
    "rdd.getNumPartitions"
   ]
  },
  {
   "cell_type": "code",
   "execution_count": 5,
   "metadata": {},
   "outputs": [
    {
     "data": {
      "text/plain": [
       "rdd2 = dataset/NOTICE MapPartitionsRDD[9] at textFile at <console>:32\n"
      ]
     },
     "metadata": {},
     "output_type": "display_data"
    },
    {
     "data": {
      "text/plain": [
       "2"
      ]
     },
     "execution_count": 5,
     "metadata": {},
     "output_type": "execute_result"
    }
   ],
   "source": [
    "val rdd2 = sc.textFile(\"dataset/NOTICE\")\n",
    "rdd2.getNumPartitions"
   ]
  },
  {
   "cell_type": "code",
   "execution_count": 9,
   "metadata": {},
   "outputs": [
    {
     "data": {
      "text/plain": [
       "lastException = null\n"
      ]
     },
     "metadata": {},
     "output_type": "display_data"
    },
    {
     "data": {
      "text/plain": [
       "Name: org.apache.hadoop.mapred.InvalidInputException\n",
       "Message: Input path does not exist: file:/home/jovyan/work/ dataset/NOTICE\n",
       "StackTrace:   at org.apache.hadoop.mapred.FileInputFormat.listStatus(FileInputFormat.java:229)\n",
       "  at org.apache.hadoop.mapred.FileInputFormat.getSplits(FileInputFormat.java:315)\n",
       "  at org.apache.spark.rdd.HadoopRDD.getPartitions(HadoopRDD.scala:200)\n",
       "  at org.apache.spark.rdd.RDD$$anonfun$partitions$2.apply(RDD.scala:253)\n",
       "  at org.apache.spark.rdd.RDD$$anonfun$partitions$2.apply(RDD.scala:251)\n",
       "  at scala.Option.getOrElse(Option.scala:121)\n",
       "  at org.apache.spark.rdd.RDD.partitions(RDD.scala:251)\n",
       "  at org.apache.spark.rdd.MapPartitionsRDD.getPartitions(MapPartitionsRDD.scala:35)\n",
       "  at org.apache.spark.rdd.RDD$$anonfun$partitions$2.apply(RDD.scala:253)\n",
       "  at org.apache.spark.rdd.RDD$$anonfun$partitions$2.apply(RDD.scala:251)\n",
       "  at scala.Option.getOrElse(Option.scala:121)\n",
       "  at org.apache.spark.rdd.RDD.partitions(RDD.scala:251)\n",
       "  at org.apache.spark.rdd.RDD.getNumPartitions(RDD.scala:267)"
      ]
     },
     "execution_count": 9,
     "metadata": {},
     "output_type": "execute_result"
    }
   ],
   "source": [
    "val rdd3 = sc.textFile(\"dataset/README.md, dataset/NOTICE\") // --> partition 3\n",
    "val rdd4 = sc.textFile(\"LI*,NO*,RE*\") // --> partition 4"
   ]
  },
  {
   "cell_type": "markdown",
   "metadata": {},
   "source": [
    "-----\n",
    "<img src=\"images/lec_02-5.png\">"
   ]
  },
  {
   "cell_type": "markdown",
   "metadata": {},
   "source": [
    "-----"
   ]
  },
  {
   "cell_type": "markdown",
   "metadata": {},
   "source": [
    "-----"
   ]
  },
  {
   "cell_type": "markdown",
   "metadata": {},
   "source": [
    "#### [LAB] Cache\n",
    "- Spark에서 Storage는 Cache를 의미함. UI에서 Storage는 cache된 데이터를 볼 수 있는 곳.\n",
    "- cache도 부분적으로 lazy하게 실행되며, action이 있어야만 100%가 storage에 cache로써 저장됨.\n",
    "- 컴퓨터의 메모리 용량에 따라, 메모리가 초과되면 오래된 cache 순으로 버려짐."
   ]
  },
  {
   "cell_type": "code",
   "execution_count": 10,
   "metadata": {},
   "outputs": [
    {
     "data": {
      "text/plain": [
       "data = README.md MapPartitionsRDD[19] at textFile at <console>:30\n",
       "distData = distData MapPartitionsRDD[20] at map at <console>:31\n"
      ]
     },
     "metadata": {},
     "output_type": "display_data"
    },
    {
     "data": {
      "text/plain": [
       "lastException: Throwable = null\n",
       "distData.name: String = distData\n"
      ]
     },
     "metadata": {},
     "output_type": "display_data"
    },
    {
     "data": {
      "text/plain": [
       "[# Apache Spark_map, _map, Spark is a fast and general cluster computing system for Big Data. It provides_map, high-level APIs in Scala, Java, Python, and R, and an optimized engine that_map, supports general computation graphs for data analysis. It also supports a_map]"
      ]
     },
     "execution_count": 10,
     "metadata": {},
     "output_type": "execute_result"
    }
   ],
   "source": [
    "val data = sc.textFile(\"README.md\") \n",
    "val distData = data.map(r => r + \"_map\")\n",
    "distData.name = \"distData\" // 이름부여\n",
    "distData.cache\n",
    "distData.take(5)\n",
    "// 웹 UI 확인 (Storage탭에서 Fraction Cached 부분이 100%가 아님을 확인)\n",
    "// 웹 UI 확인 (Task도 1개만 실행되었음을 확인)"
   ]
  },
  {
   "cell_type": "code",
   "execution_count": 11,
   "metadata": {},
   "outputs": [
    {
     "data": {
      "text/plain": [
       "[# Apache Spark_map, _map, Spark is a fast and general cluster computing system for Big Data. It provides_map, high-level APIs in Scala, Java, Python, and R, and an optimized engine that_map, supports general computation graphs for data analysis. It also supports a_map, rich set of higher-level tools including Spark SQL for SQL and DataFrames,_map, MLlib for machine learning, GraphX for graph processing,_map, and Spark Streaming for stream processing._map, _map, <http://spark.apache.org/>_map, _map, _map, ## Online Documentation_map, _map, You can find the latest Spark documentation, including a programming_map, guide, on the [project web page](http://spark.apache.org/documentation.html)._map, This README file only contains basic setup instructions._map, _map, ## Building Spark_map, _map, Spark is built using [Apache Maven](http://maven.apache.org/)._map, To build Spark and its example programs, run:_map, _map,     build/mvn -DskipTests clean package_map, _map, (You do not need to do this if you downloaded a pre-built package.)_map, _map, You can build Spark using more than one thread by using the -T option with Maven, see [\"Parallel builds in Maven 3\"](https://cwiki.apache.org/confluence/display/MAVEN/Parallel+builds+in+Maven+3)._map, More detailed documentation is available from the project site, at_map, [\"Building Spark\"](http://spark.apache.org/docs/latest/building-spark.html)._map, _map, For general development tips, including info on developing Spark using an IDE, see [\"Useful Developer Tools\"](http://spark.apache.org/developer-tools.html)._map, _map, ## Interactive Scala Shell_map, _map, The easiest way to start using Spark is through the Scala shell:_map, _map,     ./bin/spark-shell_map, _map, Try the following command, which should return 1000:_map, _map,     scala> sc.parallelize(1 to 1000).count()_map, _map, ## Interactive Python Shell_map, _map, Alternatively, if you prefer Python, you can use the Python shell:_map, _map,     ./bin/pyspark_map, _map, And run the following command, which should also return 1000:_map, _map,     >>> sc.parallelize(range(1000)).count()_map, _map, ## Example Programs_map, _map, Spark also comes with several sample programs in the `examples` directory._map, To run one of them, use `./bin/run-example <class> [params]`. For example:_map, _map,     ./bin/run-example SparkPi_map, _map, will run the Pi example locally._map, _map, You can set the MASTER environment variable when running examples to submit_map, examples to a cluster. This can be a mesos:// or spark:// URL,_map, \"yarn\" to run on YARN, and \"local\" to run_map, locally with one thread, or \"local[N]\" to run locally with N threads. You_map, can also use an abbreviated class name if the class is in the `examples`_map, package. For instance:_map, _map,     MASTER=spark://host:7077 ./bin/run-example SparkPi_map, _map, Many of the example programs print usage help if no params are given._map, _map, ## Running Tests_map, _map, Testing first requires [building Spark](#building-spark). Once Spark is built, tests_map, can be run using:_map, _map,     ./dev/run-tests_map, _map, Please see the guidance on how to_map, [run tests for a module, or individual tests](http://spark.apache.org/developer-tools.html#individual-tests)._map, _map, ## A Note About Hadoop Versions_map, _map, Spark uses the Hadoop core library to talk to HDFS and other Hadoop-supported_map, storage systems. Because the protocols have changed in different versions of_map, Hadoop, you must build Spark against the same version that your cluster runs._map, _map, Please refer to the build documentation at_map, [\"Specifying the Hadoop Version\"](http://spark.apache.org/docs/latest/building-spark.html#specifying-the-hadoop-version)_map, for detailed guidance on building for a particular distribution of Hadoop, including_map, building for particular Hive and Hive Thriftserver distributions._map, _map, ## Configuration_map, _map, Please refer to the [Configuration Guide](http://spark.apache.org/docs/latest/configuration.html)_map, in the online documentation for an overview on how to configure Spark._map, _map, ## Contributing_map, _map, Please review the [Contribution to Spark guide](http://spark.apache.org/contributing.html)_map, for information on how to get started contributing to the project._map]"
      ]
     },
     "execution_count": 11,
     "metadata": {},
     "output_type": "execute_result"
    }
   ],
   "source": [
    "distData.collect\n",
    "// 웹 UI 확인 (Storage탭에서 Fraction Cached 부분이 100%임을 확인)\n",
    "// 웹 UI 확인 (Task도 모두 실행되었음을 확인)"
   ]
  },
  {
   "cell_type": "code",
   "execution_count": 12,
   "metadata": {},
   "outputs": [
    {
     "data": {
      "text/plain": [
       "StorageLevel(memory, deserialized, 1 replicas)"
      ]
     },
     "execution_count": 12,
     "metadata": {},
     "output_type": "execute_result"
    }
   ],
   "source": [
    "distData.getStorageLevel // shell에서 캐시 확인"
   ]
  },
  {
   "cell_type": "code",
   "execution_count": 13,
   "metadata": {},
   "outputs": [
    {
     "data": {
      "text/plain": [
       "distData MapPartitionsRDD[20] at map at <console>:31"
      ]
     },
     "execution_count": 13,
     "metadata": {},
     "output_type": "execute_result"
    }
   ],
   "source": [
    "distData.unpersist() // 캐시 삭제"
   ]
  },
  {
   "cell_type": "markdown",
   "metadata": {},
   "source": [
    "-----\n",
    "<img src=\"images/lec_02-5.png\">"
   ]
  },
  {
   "cell_type": "markdown",
   "metadata": {},
   "source": [
    "-----"
   ]
  },
  {
   "cell_type": "markdown",
   "metadata": {},
   "source": [
    "-----"
   ]
  },
  {
   "cell_type": "markdown",
   "metadata": {},
   "source": [
    "#### [LAB] Cache Size(Int vs String vs Object)\n",
    "- Spark 에서 '23092'와 같은 string이 있다면, int type으로 바꿔서 cache, action등을 수행하는 것이 좋다.\n",
    "- 같은 데이터라도 타입에 따라 cache의 size가 다르다."
   ]
  },
  {
   "cell_type": "code",
   "execution_count": 14,
   "metadata": {},
   "outputs": [
    {
     "data": {
      "text/plain": [
       "intRdd = intRdd ParallelCollectionRDD[21] at parallelize at <console>:30\n"
      ]
     },
     "metadata": {},
     "output_type": "display_data"
    },
    {
     "data": {
      "text/plain": [
       "intRdd.name: String = intRdd\n"
      ]
     },
     "metadata": {},
     "output_type": "display_data"
    },
    {
     "data": {
      "text/plain": [
       "10000"
      ]
     },
     "execution_count": 14,
     "metadata": {},
     "output_type": "execute_result"
    }
   ],
   "source": [
    "val intRdd = sc.parallelize(1 to 10000) \n",
    "intRdd.name = \"intRdd\"\n",
    "intRdd.cache\n",
    "intRdd.count"
   ]
  },
  {
   "cell_type": "code",
   "execution_count": 15,
   "metadata": {},
   "outputs": [
    {
     "data": {
      "text/plain": [
       "strRdd = strRdd MapPartitionsRDD[22] at map at <console>:32\n"
      ]
     },
     "metadata": {},
     "output_type": "display_data"
    },
    {
     "data": {
      "text/plain": [
       "strRdd.name: String = strRdd\n"
      ]
     },
     "metadata": {},
     "output_type": "display_data"
    },
    {
     "data": {
      "text/plain": [
       "10000"
      ]
     },
     "execution_count": 15,
     "metadata": {},
     "output_type": "execute_result"
    }
   ],
   "source": [
    "val strRdd = intRdd.map(_.toString)\n",
    "strRdd.name = \"strRdd\" \n",
    "strRdd.cache\n",
    "strRdd.count"
   ]
  },
  {
   "cell_type": "code",
   "execution_count": 16,
   "metadata": {},
   "outputs": [
    {
     "data": {
      "text/plain": [
       "defined class strCase\n",
       "strCaseRdd = strCaseRdd MapPartitionsRDD[23] at map at <console>:18\n"
      ]
     },
     "metadata": {},
     "output_type": "display_data"
    },
    {
     "data": {
      "text/plain": [
       "strCaseRdd.name: String = strCaseRdd\n"
      ]
     },
     "metadata": {},
     "output_type": "display_data"
    },
    {
     "data": {
      "text/plain": [
       "10000"
      ]
     },
     "execution_count": 16,
     "metadata": {},
     "output_type": "execute_result"
    }
   ],
   "source": [
    "case class strCase (str: String)\n",
    "val strCaseRdd = intRdd.map(x => strCase(x.toString)) \n",
    "strCaseRdd.name = \"strCaseRdd\" \n",
    "strCaseRdd.cache\n",
    "strCaseRdd.count\n",
    "// 웹 UI 확인 (Storage탭에서 캐시 Size 확인)"
   ]
  },
  {
   "cell_type": "markdown",
   "metadata": {},
   "source": [
    "-----"
   ]
  },
  {
   "cell_type": "markdown",
   "metadata": {},
   "source": [
    "-----"
   ]
  },
  {
   "cell_type": "markdown",
   "metadata": {},
   "source": [
    "#### [LAB] Get Cached RDD by Name\n",
    "- 특정 캐시를 RDD이름으로 가져오거나 삭제 가능\n",
    "- map(_._2) emits a second component of the tuple"
   ]
  },
  {
   "cell_type": "code",
   "execution_count": 17,
   "metadata": {},
   "outputs": [
    {
     "data": {
      "text/plain": [
       "data = data MapPartitionsRDD[25] at textFile at <console>:33\n",
       "distData = distData MapPartitionsRDD[26] at map at <console>:34\n"
      ]
     },
     "metadata": {},
     "output_type": "display_data"
    },
    {
     "data": {
      "text/plain": [
       "distData.name: String = distData\n"
      ]
     },
     "metadata": {},
     "output_type": "display_data"
    },
    {
     "data": {
      "text/plain": [
       "[# Apache Spark_map, _map, Spark is a fast and general cluster computing system for Big Data. It provides_map, high-level APIs in Scala, Java, Python, and R, and an optimized engine that_map, supports general computation graphs for data analysis. It also supports a_map, rich set of higher-level tools including Spark SQL for SQL and DataFrames,_map, MLlib for machine learning, GraphX for graph processing,_map, and Spark Streaming for stream processing._map, _map, <http://spark.apache.org/>_map, _map, _map, ## Online Documentation_map, _map, You can find the latest Spark documentation, including a programming_map, guide, on the [project web page](http://spark.apache.org/documentation.html)._map, This README file only contains basic setup instructions._map, _map, ## Building Spark_map, _map, Spark is built using [Apache Maven](http://maven.apache.org/)._map, To build Spark and its example programs, run:_map, _map,     build/mvn -DskipTests clean package_map, _map, (You do not need to do this if you downloaded a pre-built package.)_map, _map, You can build Spark using more than one thread by using the -T option with Maven, see [\"Parallel builds in Maven 3\"](https://cwiki.apache.org/confluence/display/MAVEN/Parallel+builds+in+Maven+3)._map, More detailed documentation is available from the project site, at_map, [\"Building Spark\"](http://spark.apache.org/docs/latest/building-spark.html)._map, _map, For general development tips, including info on developing Spark using an IDE, see [\"Useful Developer Tools\"](http://spark.apache.org/developer-tools.html)._map, _map, ## Interactive Scala Shell_map, _map, The easiest way to start using Spark is through the Scala shell:_map, _map,     ./bin/spark-shell_map, _map, Try the following command, which should return 1000:_map, _map,     scala> sc.parallelize(1 to 1000).count()_map, _map, ## Interactive Python Shell_map, _map, Alternatively, if you prefer Python, you can use the Python shell:_map, _map,     ./bin/pyspark_map, _map, And run the following command, which should also return 1000:_map, _map,     >>> sc.parallelize(range(1000)).count()_map, _map, ## Example Programs_map, _map, Spark also comes with several sample programs in the `examples` directory._map, To run one of them, use `./bin/run-example <class> [params]`. For example:_map, _map,     ./bin/run-example SparkPi_map, _map, will run the Pi example locally._map, _map, You can set the MASTER environment variable when running examples to submit_map, examples to a cluster. This can be a mesos:// or spark:// URL,_map, \"yarn\" to run on YARN, and \"local\" to run_map, locally with one thread, or \"local[N]\" to run locally with N threads. You_map, can also use an abbreviated class name if the class is in the `examples`_map, package. For instance:_map, _map,     MASTER=spark://host:7077 ./bin/run-example SparkPi_map, _map, Many of the example programs print usage help if no params are given._map, _map, ## Running Tests_map, _map, Testing first requires [building Spark](#building-spark). Once Spark is built, tests_map, can be run using:_map, _map,     ./dev/run-tests_map, _map, Please see the guidance on how to_map, [run tests for a module, or individual tests](http://spark.apache.org/developer-tools.html#individual-tests)._map, _map, ## A Note About Hadoop Versions_map, _map, Spark uses the Hadoop core library to talk to HDFS and other Hadoop-supported_map, storage systems. Because the protocols have changed in different versions of_map, Hadoop, you must build Spark against the same version that your cluster runs._map, _map, Please refer to the build documentation at_map, [\"Specifying the Hadoop Version\"](http://spark.apache.org/docs/latest/building-spark.html#specifying-the-hadoop-version)_map, for detailed guidance on building for a particular distribution of Hadoop, including_map, building for particular Hive and Hive Thriftserver distributions._map, _map, ## Configuration_map, _map, Please refer to the [Configuration Guide](http://spark.apache.org/docs/latest/configuration.html)_map, in the online documentation for an overview on how to configure Spark._map, _map, ## Contributing_map, _map, Please review the [Contribution to Spark guide](http://spark.apache.org/contributing.html)_map, for information on how to get started contributing to the project._map]"
      ]
     },
     "execution_count": 17,
     "metadata": {},
     "output_type": "execute_result"
    }
   ],
   "source": [
    "val data = sc.textFile(\"README.md\")\n",
    "val distData = data.map(r => r + \"_map\")\n",
    "data.setName(\"data\")\n",
    "distData.name = \"distData\"\n",
    "data.cache\n",
    "distData.cache\n",
    "sc.getPersistentRDDs\n",
    "distData.collect // action\n",
    "// 웹 UI 확인 (distData만 action 실행했는데 data, distData 둘 다 캐시됨)"
   ]
  },
  {
   "cell_type": "code",
   "execution_count": 18,
   "metadata": {},
   "outputs": [
    {
     "data": {
      "text/plain": [
       "Map(25 -> data MapPartitionsRDD[25] at textFile at <console>:33, 21 -> intRdd ParallelCollectionRDD[21] at parallelize at <console>:30, 22 -> strRdd MapPartitionsRDD[22] at map at <console>:32, 26 -> distData MapPartitionsRDD[26] at map at <console>:34, 23 -> strCaseRdd MapPartitionsRDD[23] at map at <console>:18)"
      ]
     },
     "execution_count": 18,
     "metadata": {},
     "output_type": "execute_result"
    }
   ],
   "source": [
    "sc.getPersistentRDDs"
   ]
  },
  {
   "cell_type": "code",
   "execution_count": 19,
   "metadata": {},
   "outputs": [
    {
     "data": {
      "text/plain": [
       "[# Apache Spark_map, _map, Spark is a fast and general cluster computing system for Big Data. It provides_map, high-level APIs in Scala, Java, Python, and R, and an optimized engine that_map, supports general computation graphs for data analysis. It also supports a_map, rich set of higher-level tools including Spark SQL for SQL and DataFrames,_map, MLlib for machine learning, GraphX for graph processing,_map, and Spark Streaming for stream processing._map, _map, <http://spark.apache.org/>_map, _map, _map, ## Online Documentation_map, _map, You can find the latest Spark documentation, including a programming_map, guide, on the [project web page](http://spark.apache.org/documentation.html)._map, This README file only contains basic setup instructions._map, _map, ## Building Spark_map, _map, Spark is built using [Apache Maven](http://maven.apache.org/)._map, To build Spark and its example programs, run:_map, _map,     build/mvn -DskipTests clean package_map, _map, (You do not need to do this if you downloaded a pre-built package.)_map, _map, You can build Spark using more than one thread by using the -T option with Maven, see [\"Parallel builds in Maven 3\"](https://cwiki.apache.org/confluence/display/MAVEN/Parallel+builds+in+Maven+3)._map, More detailed documentation is available from the project site, at_map, [\"Building Spark\"](http://spark.apache.org/docs/latest/building-spark.html)._map, _map, For general development tips, including info on developing Spark using an IDE, see [\"Useful Developer Tools\"](http://spark.apache.org/developer-tools.html)._map, _map, ## Interactive Scala Shell_map, _map, The easiest way to start using Spark is through the Scala shell:_map, _map,     ./bin/spark-shell_map, _map, Try the following command, which should return 1000:_map, _map,     scala> sc.parallelize(1 to 1000).count()_map, _map, ## Interactive Python Shell_map, _map, Alternatively, if you prefer Python, you can use the Python shell:_map, _map,     ./bin/pyspark_map, _map, And run the following command, which should also return 1000:_map, _map,     >>> sc.parallelize(range(1000)).count()_map, _map, ## Example Programs_map, _map, Spark also comes with several sample programs in the `examples` directory._map, To run one of them, use `./bin/run-example <class> [params]`. For example:_map, _map,     ./bin/run-example SparkPi_map, _map, will run the Pi example locally._map, _map, You can set the MASTER environment variable when running examples to submit_map, examples to a cluster. This can be a mesos:// or spark:// URL,_map, \"yarn\" to run on YARN, and \"local\" to run_map, locally with one thread, or \"local[N]\" to run locally with N threads. You_map, can also use an abbreviated class name if the class is in the `examples`_map, package. For instance:_map, _map,     MASTER=spark://host:7077 ./bin/run-example SparkPi_map, _map, Many of the example programs print usage help if no params are given._map, _map, ## Running Tests_map, _map, Testing first requires [building Spark](#building-spark). Once Spark is built, tests_map, can be run using:_map, _map,     ./dev/run-tests_map, _map, Please see the guidance on how to_map, [run tests for a module, or individual tests](http://spark.apache.org/developer-tools.html#individual-tests)._map, _map, ## A Note About Hadoop Versions_map, _map, Spark uses the Hadoop core library to talk to HDFS and other Hadoop-supported_map, storage systems. Because the protocols have changed in different versions of_map, Hadoop, you must build Spark against the same version that your cluster runs._map, _map, Please refer to the build documentation at_map, [\"Specifying the Hadoop Version\"](http://spark.apache.org/docs/latest/building-spark.html#specifying-the-hadoop-version)_map, for detailed guidance on building for a particular distribution of Hadoop, including_map, building for particular Hive and Hive Thriftserver distributions._map, _map, ## Configuration_map, _map, Please refer to the [Configuration Guide](http://spark.apache.org/docs/latest/configuration.html)_map, in the online documentation for an overview on how to configure Spark._map, _map, ## Contributing_map, _map, Please review the [Contribution to Spark guide](http://spark.apache.org/contributing.html)_map, for information on how to get started contributing to the project._map]"
      ]
     },
     "execution_count": 19,
     "metadata": {},
     "output_type": "execute_result"
    }
   ],
   "source": [
    "sc.getPersistentRDDs.filter(x => x._2.name.equals(\"data\")).foreach(x => x._2.unpersist()) // 특정 캐시(\"data\")만 제거\n",
    "sc.getPersistentRDDs.foreach(x => x._2.unpersist()) // 모든 캐시 제거\n",
    "distData.collect // action\n",
    "// 웹 UI 확인 (캐시 없음. 기존 캐시 모두 unpersist를 통해 설정 해제 됨)"
   ]
  },
  {
   "cell_type": "code",
   "execution_count": null,
   "metadata": {},
   "outputs": [],
   "source": []
  }
 ],
 "metadata": {
  "kernelspec": {
   "display_name": "Apache Toree - Scala",
   "language": "scala",
   "name": "apache_toree_scala"
  },
  "language_info": {
   "codemirror_mode": "text/x-scala",
   "file_extension": ".scala",
   "mimetype": "text/x-scala",
   "name": "scala",
   "pygments_lexer": "scala",
   "version": "2.11.8"
  }
 },
 "nbformat": 4,
 "nbformat_minor": 2
}
