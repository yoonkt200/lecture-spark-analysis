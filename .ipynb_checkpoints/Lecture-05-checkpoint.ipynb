{
 "cells": [
  {
   "cell_type": "markdown",
   "metadata": {},
   "source": [
    "### reduce by key, sort 연산 수행"
   ]
  },
  {
   "cell_type": "code",
   "execution_count": 1,
   "metadata": {},
   "outputs": [
    {
     "data": {
      "text/plain": [
       "Name: Syntax Error.\n",
       "Message: \n",
       "StackTrace: "
      ]
     },
     "execution_count": 1,
     "metadata": {},
     "output_type": "execute_result"
    }
   ],
   "source": [
    "//--(단어, 1) 튜플 생성....\n",
    "val tupleRDD = filteredRDD.map { x => (x, 1) } // ('spark', 1) 같은 리스트들의 모음이 \n",
    "    \n",
    "//--단어별 개수 카운팅....\n",
    "val reducedRDD = tupleRDD.reduceByKey { (x, y) => x + y} \n",
    "// reduceByKey : key별로 {}안의 연산을 수행함. 'spark' 가 4 line이 있다고 할 때, \n",
    "// {('spark', 'spark') => 1 + 1} 의 결과값을 ('spark', 2) 로 return함. 이를 4 line이 모두 수행되도록 recursive 하게 동작하는 것.\n",
    "// key를 group으로 하는 groupby 연산이라고 생각하면 됨. --> 그룹마다 {}안의 연산을 recursive하게 실행."
   ]
  },
  {
   "cell_type": "markdown",
   "metadata": {},
   "source": [
    "### sort의 두 가지 방법\n",
    "- sortByKey API\n",
    "- top API"
   ]
  },
  {
   "cell_type": "code",
   "execution_count": 2,
   "metadata": {},
   "outputs": [
    {
     "data": {
      "text/plain": [
       "Name: Syntax Error.\n",
       "Message: \n",
       "StackTrace: "
      ]
     },
     "execution_count": 2,
     "metadata": {},
     "output_type": "execute_result"
    }
   ],
   "source": [
    "// sortByKey API\n",
    "val sortedRDD = swappedRDD.sortByKey(false) //--swappedRDD.sortByKey(false, 1)\n",
    "\n",
    "\n",
    "// top API :\n",
    "val secondValueOrdering = new Ordering[(String, Int)] { //--Ordering 객체 생성....\n",
    "  override def compare(a: (String, Int), b: (String, Int)) = {\n",
    "    a._2 compare b._2  //--(a._2 compare b._2) * -1    //--if((a._2 compare b._2) * -1 == 0) (a._1 compare b._1) * -1 else (a._2 compare b._2) * -1\n",
    "  }\n",
    "}\n",
    "\n",
    "//--개수가 큰 순서로 10개만 로그 출력....\n",
    "reducedRDD.top(10)(secondValueOrdering).foreach { x => println(\"word_count(10 only) : \" + x) }  //--reducedRDD.top(10).foreach { x => println(\"word_count(10 only) : \" + x) }\n"
   ]
  },
  {
   "cell_type": "code",
   "execution_count": null,
   "metadata": {},
   "outputs": [],
   "source": []
  }
 ],
 "metadata": {
  "kernelspec": {
   "display_name": "Apache Toree - Scala",
   "language": "scala",
   "name": "apache_toree_scala"
  },
  "language_info": {
   "codemirror_mode": "text/x-scala",
   "file_extension": ".scala",
   "mimetype": "text/x-scala",
   "name": "scala",
   "pygments_lexer": "scala",
   "version": "2.11.8"
  }
 },
 "nbformat": 4,
 "nbformat_minor": 2
}
